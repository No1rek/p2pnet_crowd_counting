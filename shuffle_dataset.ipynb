{
 "cells": [
  {
   "cell_type": "code",
   "execution_count": 11,
   "metadata": {},
   "outputs": [],
   "source": [
    "import os\n",
    "import numpy as np\n",
    "import shutil"
   ]
  },
  {
   "cell_type": "code",
   "execution_count": 2,
   "metadata": {},
   "outputs": [],
   "source": [
    "def make_path_list(images_folder, labels_folder, val_fraction=0):\n",
    "    paths_ds = []\n",
    "    paths_val = []\n",
    "    \n",
    "    image_list = os.listdir(images_folder)\n",
    "    label_list = os.listdir(labels_folder)\n",
    "    \n",
    "    for i,l in zip(image_list, label_list):\n",
    "        ip = os.path.join(images_folder,i)\n",
    "        lp = os.path.join(labels_folder,l)\n",
    "        if (np.random.uniform(0,1) >= val_fraction):\n",
    "            paths_ds.append((ip,lp))\n",
    "        else: paths_val.append((ip,lp))\n",
    "    if val_fraction > 0:\n",
    "        return paths_ds, paths_val\n",
    "    return paths_ds"
   ]
  },
  {
   "cell_type": "code",
   "execution_count": 5,
   "metadata": {},
   "outputs": [],
   "source": [
    "\n",
    "train_img = \"./ShanghaiTech_part_A/train_data/images/\"\n",
    "train_label = \"./ShanghaiTech_part_A/train_data/ground-truth/\"\n",
    "test_img = \"./ShanghaiTech_part_A/test_data/images/\"\n",
    "test_label = \"./ShanghaiTech_part_A/test_data/ground-truth/\"\n",
    "\n",
    "train = make_path_list(train_img, train_label)\n",
    "test = make_path_list(test_img, test_label)\n",
    "dataset = train + test\n"
   ]
  },
  {
   "cell_type": "code",
   "execution_count": 9,
   "metadata": {},
   "outputs": [],
   "source": [
    "np.random.shuffle(dataset)"
   ]
  },
  {
   "cell_type": "code",
   "execution_count": 12,
   "metadata": {},
   "outputs": [
    {
     "data": {
      "text/plain": [
       "482"
      ]
     },
     "execution_count": 12,
     "metadata": {},
     "output_type": "execute_result"
    }
   ],
   "source": [
    "len(dataset)"
   ]
  },
  {
   "cell_type": "code",
   "execution_count": 13,
   "metadata": {},
   "outputs": [],
   "source": [
    "train_new = dataset[:-100]\n",
    "test_new = dataset[-100:]"
   ]
  },
  {
   "cell_type": "code",
   "execution_count": 16,
   "metadata": {},
   "outputs": [
    {
     "data": {
      "text/plain": [
       "('./ShanghaiTech_part_A/test_data/images/IMG_65.jpg',\n",
       " './ShanghaiTech_part_A/test_data/ground-truth/GT_IMG_65.mat')"
      ]
     },
     "execution_count": 16,
     "metadata": {},
     "output_type": "execute_result"
    }
   ],
   "source": [
    "train_new[0]"
   ]
  },
  {
   "cell_type": "code",
   "execution_count": 18,
   "metadata": {},
   "outputs": [
    {
     "data": {
      "text/plain": [
       "'c:\\\\Projects\\\\People Counting\\\\P2PNet\\\\ShanghaiTech_part_A_copy\\\\train_data\\\\images\\\\IMG_{i+1}.jpg'"
      ]
     },
     "execution_count": 18,
     "metadata": {},
     "output_type": "execute_result"
    }
   ],
   "source": [
    "os.path.abspath(\"./ShanghaiTech_part_A_copy/train_data/images/IMG_{i+1}.jpg\")"
   ]
  },
  {
   "cell_type": "code",
   "execution_count": 21,
   "metadata": {},
   "outputs": [
    {
     "name": "stderr",
     "output_type": "stream",
     "text": [
      "382it [00:00, 574.45it/s]\n",
      "100it [00:00, 571.43it/s]\n"
     ]
    }
   ],
   "source": [
    "from tqdm import tqdm \n",
    "\n",
    "for i, (img,label) in tqdm(enumerate(train_new)):\n",
    "    new_img = f\"./ShanghaiTech_part_A copy/train_data/images/IMG_{i+1}.jpg\"\n",
    "    new_label = f\"./ShanghaiTech_part_A copy/train_data/ground-truth/GT_IMG_{i+1}.mat\"\n",
    "    shutil.copyfile(os.path.abspath(img), os.path.abspath(new_img))\n",
    "    shutil.copyfile(os.path.abspath(label), os.path.abspath(new_label))\n",
    "\n",
    "for i, (img,label) in tqdm(enumerate(test_new)):\n",
    "    new_img = f\"./ShanghaiTech_part_A copy/test_data/images/IMG_{i+1}.jpg\"\n",
    "    new_label = f\"./ShanghaiTech_part_A copy/test_data/ground-truth/GT_IMG_{i+1}.mat\"\n",
    "    shutil.copyfile(os.path.abspath(img), os.path.abspath(new_img))\n",
    "    shutil.copyfile(os.path.abspath(label), os.path.abspath(new_label))"
   ]
  },
  {
   "cell_type": "code",
   "execution_count": 15,
   "metadata": {},
   "outputs": [
    {
     "data": {
      "text/plain": [
       "382"
      ]
     },
     "execution_count": 15,
     "metadata": {},
     "output_type": "execute_result"
    }
   ],
   "source": [
    "len(train_new)"
   ]
  },
  {
   "cell_type": "code",
   "execution_count": null,
   "metadata": {},
   "outputs": [],
   "source": []
  }
 ],
 "metadata": {
  "kernelspec": {
   "display_name": "Python 3.8.8 64-bit",
   "language": "python",
   "name": "python3"
  },
  "language_info": {
   "codemirror_mode": {
    "name": "ipython",
    "version": 3
   },
   "file_extension": ".py",
   "mimetype": "text/x-python",
   "name": "python",
   "nbconvert_exporter": "python",
   "pygments_lexer": "ipython3",
   "version": "3.8.8"
  },
  "orig_nbformat": 4,
  "vscode": {
   "interpreter": {
    "hash": "4bd6058d1f3faee632f1575a9628e8290db9254b1fe1a18c64fd3a88e70ceb76"
   }
  }
 },
 "nbformat": 4,
 "nbformat_minor": 2
}
